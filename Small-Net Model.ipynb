{
 "cells": [
  {
   "cell_type": "code",
   "execution_count": 1,
   "id": "9a935d82",
   "metadata": {},
   "outputs": [],
   "source": [
    "import pickle\n",
    "import numpy as np\n",
    "import pandas as pd\n",
    "import matplotlib.pyplot as plt\n",
    "import os\n",
    "import random\n",
    "import tensorflow as tf\n",
    "from tensorflow import keras\n",
    "from tensorflow.keras.models import Sequential\n",
    "from tensorflow.keras.layers import Dense, Dropout, Activation, Flatten, Conv2D, MaxPooling2D\n",
    "from tensorflow.keras.callbacks import TensorBoard\n",
    "import time"
   ]
  },
  {
   "cell_type": "code",
   "execution_count": 2,
   "id": "beeeeb4f",
   "metadata": {},
   "outputs": [],
   "source": [
    "X_train = pickle.load(open(\"X_train.pickle\", \"rb\"))\n",
    "y_train = pickle.load(open(\"y_train.pickle\", \"rb\"))\n",
    "X_test = pickle.load(open(\"X_test.pickle\", \"rb\"))\n",
    "y_test = pickle.load(open(\"y_test.pickle\", \"rb\"))"
   ]
  },
  {
   "cell_type": "code",
   "execution_count": 3,
   "id": "8d61c530",
   "metadata": {},
   "outputs": [],
   "source": [
    "from sklearn.model_selection import train_test_split\n",
    "X_train, X_val, y_train, y_val = train_test_split(X_train, y_train, test_size = 0.2)"
   ]
  },
  {
   "cell_type": "code",
   "execution_count": 4,
   "id": "1e0202e8",
   "metadata": {},
   "outputs": [],
   "source": [
    "import tensorflow as tf\n",
    "from tensorflow import keras\n",
    "from tensorflow.keras.models import Sequential\n",
    "from tensorflow.keras.layers import Dense, Dropout, Activation, Flatten, Conv2D, MaxPooling2D"
   ]
  },
  {
   "cell_type": "code",
   "execution_count": 5,
   "id": "204f1ce2",
   "metadata": {},
   "outputs": [
    {
     "name": "stdout",
     "output_type": "stream",
     "text": [
      "1944\n",
      "1944\n",
      "486\n",
      "486\n",
      "400\n",
      "400\n"
     ]
    }
   ],
   "source": [
    "print(len(X_train))\n",
    "print(len(y_train))\n",
    "print(len(X_val))\n",
    "print(len(y_val))\n",
    "print(len(X_test))\n",
    "print(len(y_test))"
   ]
  },
  {
   "cell_type": "code",
   "execution_count": 6,
   "id": "0b67ca13",
   "metadata": {},
   "outputs": [],
   "source": [
    "#X_train = X_train[:2000]\n",
    "#y_train = y_train[:2000]\n",
    "#X_test = X_test[:200]\n",
    "#y_test = y_test[:200]"
   ]
  },
  {
   "cell_type": "code",
   "execution_count": 7,
   "id": "106d1074",
   "metadata": {},
   "outputs": [
    {
     "name": "stdout",
     "output_type": "stream",
     "text": [
      "1944\n",
      "1944\n",
      "400\n",
      "400\n"
     ]
    }
   ],
   "source": [
    "print(len(X_train))\n",
    "print(len(y_train))\n",
    "print(len(X_test))\n",
    "print(len(y_test))"
   ]
  },
  {
   "cell_type": "code",
   "execution_count": 8,
   "id": "4f1eee83",
   "metadata": {},
   "outputs": [],
   "source": [
    "#reshape array to fit cnn\n",
    "X_train = np.array(X_train).reshape(-1, 250, 250, 1)\n",
    "y_train = np.array(y_train).reshape(-1, 1)\n",
    "X_val = np.array(X_train).reshape(-1, 250, 250, 1)\n",
    "y_val = np.array(y_train).reshape(-1, 1)\n",
    "X_test = np.array(X_test).reshape(-1, 250, 250, 1)\n",
    "y_test = np.array(y_test).reshape(-1, 1)"
   ]
  },
  {
   "cell_type": "code",
   "execution_count": 9,
   "id": "fba9a59b",
   "metadata": {},
   "outputs": [],
   "source": [
    "#callback to stop cnn training when validation reaches 95 accuracy\n",
    "ACCURACY_THRESHOLD = 0.95\n",
    "\n",
    "class callback(keras.callbacks.Callback):\n",
    "    def on_epoch_end(self, epoch, logs={}):\n",
    "        if(logs.get('val_accuracy') > ACCURACY_THRESHOLD):\n",
    "            print(\"\\nReached %2.2f%% accuracy, so stopping training!!\" % (ACCURACY_THRESHOLD*100))\n",
    "            self.model.stop_training = True\n"
   ]
  },
  {
   "cell_type": "code",
   "execution_count": 10,
   "id": "8764f573",
   "metadata": {
    "scrolled": true
   },
   "outputs": [
    {
     "name": "stdout",
     "output_type": "stream",
     "text": [
      "Epoch 1/30\n",
      "25/25 [==============================] - 60s 2s/step - loss: 0.6740 - accuracy: 0.5592 - val_loss: 0.6332 - val_accuracy: 0.6147\n",
      "Epoch 2/30\n",
      "25/25 [==============================] - 58s 2s/step - loss: 0.5869 - accuracy: 0.7140 - val_loss: 0.5046 - val_accuracy: 0.7716\n",
      "Epoch 3/30\n",
      "25/25 [==============================] - 59s 2s/step - loss: 0.4981 - accuracy: 0.7629 - val_loss: 0.5041 - val_accuracy: 0.7927\n",
      "Epoch 4/30\n",
      "25/25 [==============================] - 58s 2s/step - loss: 0.4382 - accuracy: 0.8138 - val_loss: 0.3618 - val_accuracy: 0.8390\n",
      "Epoch 5/30\n",
      "25/25 [==============================] - 59s 2s/step - loss: 0.4851 - accuracy: 0.7948 - val_loss: 0.5436 - val_accuracy: 0.7747\n",
      "Epoch 6/30\n",
      "25/25 [==============================] - 58s 2s/step - loss: 0.4517 - accuracy: 0.8086 - val_loss: 0.3861 - val_accuracy: 0.8287\n",
      "Epoch 7/30\n",
      "25/25 [==============================] - 57s 2s/step - loss: 0.3734 - accuracy: 0.8395 - val_loss: 0.3107 - val_accuracy: 0.8678\n",
      "Epoch 8/30\n",
      "25/25 [==============================] - 53s 2s/step - loss: 0.2968 - accuracy: 0.8735 - val_loss: 0.3643 - val_accuracy: 0.8390\n",
      "Epoch 9/30\n",
      "25/25 [==============================] - 55s 2s/step - loss: 0.2733 - accuracy: 0.8827 - val_loss: 0.2594 - val_accuracy: 0.8904\n",
      "Epoch 10/30\n",
      "25/25 [==============================] - 54s 2s/step - loss: 0.2571 - accuracy: 0.8899 - val_loss: 0.2299 - val_accuracy: 0.9043\n",
      "Epoch 11/30\n",
      "25/25 [==============================] - 55s 2s/step - loss: 0.2591 - accuracy: 0.8843 - val_loss: 0.2970 - val_accuracy: 0.8637\n",
      "Epoch 12/30\n",
      "25/25 [==============================] - 54s 2s/step - loss: 0.2768 - accuracy: 0.8791 - val_loss: 0.2603 - val_accuracy: 0.8884\n",
      "Epoch 13/30\n",
      "25/25 [==============================] - 54s 2s/step - loss: 0.2313 - accuracy: 0.9023 - val_loss: 0.2175 - val_accuracy: 0.9064\n",
      "Epoch 14/30\n",
      "25/25 [==============================] - 54s 2s/step - loss: 0.2283 - accuracy: 0.9090 - val_loss: 0.1554 - val_accuracy: 0.9362\n",
      "Epoch 15/30\n",
      "25/25 [==============================] - ETA: 0s - loss: 0.1453 - accuracy: 0.9378\n",
      "Reached 95.00% accuracy, so stopping training!!\n",
      "25/25 [==============================] - 54s 2s/step - loss: 0.1453 - accuracy: 0.9378 - val_loss: 0.1096 - val_accuracy: 0.9552\n",
      "Total time: 844.3567309379578 seconds\n"
     ]
    }
   ],
   "source": [
    "callbacks = callback()\n",
    "#normalise data\n",
    "X_train = X_train/255\n",
    "X_val = X_val/255\n",
    "model = keras.Sequential()\n",
    "\n",
    "# Convolutional layer and maxpool layer 1\n",
    "model.add(keras.layers.Conv2D(32,(3,3),activation='relu',input_shape=X_train.shape[1:]))\n",
    "model.add(keras.layers.MaxPool2D(2,2))\n",
    "\n",
    "# Convolutional layer and maxpool layer 2\n",
    "model.add(keras.layers.Conv2D(64,(3,3),activation='relu'))\n",
    "model.add(keras.layers.MaxPool2D(2,2))\n",
    "\n",
    "# Convolutional layer and maxpool layer 3\n",
    "model.add(keras.layers.Conv2D(64,(3,3),activation='relu'))\n",
    "model.add(keras.layers.MaxPool2D(2,2))\n",
    "\n",
    "# Convolutional layer and maxpool layer 4\n",
    "model.add(keras.layers.Conv2D(128,(3,3),activation='relu'))\n",
    "model.add(keras.layers.MaxPool2D(2,2))\n",
    "\n",
    "# Convolutional layer and maxpool layer 5\n",
    "model.add(keras.layers.Conv2D(128,(3,3),activation='relu'))\n",
    "model.add(keras.layers.MaxPool2D(2,2))\n",
    "\n",
    "# Convolutional layer and maxpool layer 6\n",
    "model.add(keras.layers.Conv2D(256,(3,3),activation='relu'))\n",
    "model.add(keras.layers.MaxPool2D(2,2))\n",
    "\n",
    "# Flatten layer\n",
    "model.add(keras.layers.Flatten())\n",
    "\n",
    "# Hidden Layer\n",
    "model.add(keras.layers.Dense(512,activation='relu'))\n",
    "\n",
    "# Output layer \n",
    "model.add(keras.layers.Dense(1,activation='sigmoid'))\n",
    "\n",
    "# binary cross-entropy is the loss fucntion with the adam optimizer\n",
    "model.compile(loss='binary_crossentropy',\n",
    "             optimizer='adam',\n",
    "             metrics=['accuracy'])\n",
    "#records time\n",
    "start = time.time()\n",
    "#batch size at 80 and max epoch is 30\n",
    "histroy = model.fit(X_train, y_train, validation_data=(X_val, y_val), epochs=30, batch_size = 80, callbacks=[callbacks])\n",
    "print(\"Total time:\", time.time() - start, \"seconds\")\n"
   ]
  },
  {
   "cell_type": "code",
   "execution_count": 11,
   "id": "a8d086f8",
   "metadata": {},
   "outputs": [
    {
     "name": "stdout",
     "output_type": "stream",
     "text": [
      "Model: \"sequential\"\n",
      "_________________________________________________________________\n",
      " Layer (type)                Output Shape              Param #   \n",
      "=================================================================\n",
      " conv2d (Conv2D)             (None, 248, 248, 32)      320       \n",
      "                                                                 \n",
      " max_pooling2d (MaxPooling2D  (None, 124, 124, 32)     0         \n",
      " )                                                               \n",
      "                                                                 \n",
      " conv2d_1 (Conv2D)           (None, 122, 122, 64)      18496     \n",
      "                                                                 \n",
      " max_pooling2d_1 (MaxPooling  (None, 61, 61, 64)       0         \n",
      " 2D)                                                             \n",
      "                                                                 \n",
      " conv2d_2 (Conv2D)           (None, 59, 59, 64)        36928     \n",
      "                                                                 \n",
      " max_pooling2d_2 (MaxPooling  (None, 29, 29, 64)       0         \n",
      " 2D)                                                             \n",
      "                                                                 \n",
      " conv2d_3 (Conv2D)           (None, 27, 27, 128)       73856     \n",
      "                                                                 \n",
      " max_pooling2d_3 (MaxPooling  (None, 13, 13, 128)      0         \n",
      " 2D)                                                             \n",
      "                                                                 \n",
      " conv2d_4 (Conv2D)           (None, 11, 11, 128)       147584    \n",
      "                                                                 \n",
      " max_pooling2d_4 (MaxPooling  (None, 5, 5, 128)        0         \n",
      " 2D)                                                             \n",
      "                                                                 \n",
      " conv2d_5 (Conv2D)           (None, 3, 3, 256)         295168    \n",
      "                                                                 \n",
      " max_pooling2d_5 (MaxPooling  (None, 1, 1, 256)        0         \n",
      " 2D)                                                             \n",
      "                                                                 \n",
      " flatten (Flatten)           (None, 256)               0         \n",
      "                                                                 \n",
      " dense (Dense)               (None, 512)               131584    \n",
      "                                                                 \n",
      " dense_1 (Dense)             (None, 1)                 513       \n",
      "                                                                 \n",
      "=================================================================\n",
      "Total params: 704,449\n",
      "Trainable params: 704,449\n",
      "Non-trainable params: 0\n",
      "_________________________________________________________________\n"
     ]
    }
   ],
   "source": [
    "#model summary \n",
    "model.summary()"
   ]
  },
  {
   "cell_type": "code",
   "execution_count": 12,
   "id": "691499cc",
   "metadata": {},
   "outputs": [
    {
     "name": "stdout",
     "output_type": "stream",
     "text": [
      "INFO:tensorflow:Assets written to: final-16epochs-32-64-64-128-128-256-COVID-XRay\\assets\n"
     ]
    }
   ],
   "source": [
    "#save model\n",
    "model.save('final-16epochs-32-64-64-128-128-256-COVID-XRay')"
   ]
  },
  {
   "cell_type": "code",
   "execution_count": 13,
   "id": "cbd05145",
   "metadata": {},
   "outputs": [],
   "source": [
    "#uses the model to predict test patient data\n",
    "results = []\n",
    "for i in range(len(y_test)):\n",
    "    X_pred = X_test[i]\n",
    "    X_pred = X_pred.reshape(-1, 250, 250, 1)\n",
    "    prediction = model.predict([X_pred])\n",
    "    results.append(prediction)"
   ]
  },
  {
   "cell_type": "code",
   "execution_count": 14,
   "id": "9fdd9821",
   "metadata": {},
   "outputs": [],
   "source": [
    "#convert cnn ouput to binary\n",
    "X_result = []\n",
    "for i in range(len(y_test)):\n",
    "    X = results[i][0][0]\n",
    "    if X > 0.5:\n",
    "        X = 1\n",
    "    else:\n",
    "        X = 0\n",
    "    X_result.append(X)\n",
    "    "
   ]
  },
  {
   "cell_type": "code",
   "execution_count": 28,
   "id": "119c6b7d",
   "metadata": {},
   "outputs": [
    {
     "name": "stdout",
     "output_type": "stream",
     "text": [
      "precentage of currenct diagnosis is 76.5%\n"
     ]
    }
   ],
   "source": [
    "#get percentage of correct predictions\n",
    "count = 0\n",
    "for i in range(len(X_result)):\n",
    "    if X_result[i] == y_test[i]:\n",
    "        count = count+1\n",
    "    else:\n",
    "        pass\n",
    "print(\"precentage of currenct diagnosis is {}%\".format((count/len(X_result)*100)))"
   ]
  },
  {
   "cell_type": "code",
   "execution_count": 21,
   "id": "05a9e540",
   "metadata": {},
   "outputs": [
    {
     "data": {
      "image/png": "[encoded data removed]",
      "text/plain": [
       "<Figure size 432x288 with 2 Axes>"
      ]
     },
     "metadata": {
      "needs_background": "light"
     },
     "output_type": "display_data"
    }
   ],
   "source": [
    "#confusion matrix\n",
    "import seaborn as sns\n",
    "import matplotlib.pyplot as plt    \n",
    "from sklearn.metrics import confusion_matrix\n",
    "\n",
    "cm = confusion_matrix(y_test, X_result)\n",
    "\n",
    "ax= plt.subplot()\n",
    "\n",
    "group_names = ['True Negative','False Positive','False Negative','True Positive']\n",
    "group_counts = [\"{0:0.0f}\".format(value) for value in\n",
    "                cm.flatten()]\n",
    "\n",
    "labels = [f\"{v1}\\n{v2}\" for v1, v2 in\n",
    "          zip(group_names,group_counts)]\n",
    "labels = np.asarray(labels).reshape(2,2)\n",
    "\n",
    "sns.heatmap(cm, annot=labels, fmt='', ax=ax, cmap='Blues');  #annot=True to annotate cells, ftm='g' to disable scientific notation"
   ]
  },
  {
   "cell_type": "code",
   "execution_count": 16,
   "id": "c7f10777",
   "metadata": {},
   "outputs": [],
   "source": [
    "import pickle\n",
    "import numpy as np\n",
    "import pandas as pd\n",
    "import matplotlib.pyplot as plt\n",
    "import os\n",
    "import random\n",
    "import tensorflow as tf\n",
    "from tensorflow import keras\n",
    "from tensorflow.keras.models import Sequential\n",
    "from tensorflow.keras.layers import Dense, Dropout, Activation, Flatten, Conv2D, MaxPooling2D\n",
    "from tensorflow.keras.callbacks import TensorBoard\n",
    "import time"
   ]
  },
  {
   "cell_type": "code",
   "execution_count": 17,
   "id": "e3e9951b",
   "metadata": {},
   "outputs": [
    {
     "data": {
      "image/png": "[encoded data removed]",
      "text/plain": [
       "<Figure size 576x360 with 1 Axes>"
      ]
     },
     "metadata": {
      "needs_background": "light"
     },
     "output_type": "display_data"
    }
   ],
   "source": [
    "#loss and accuracy graph\n",
    "mylabels = ['Training Loss', 'Training Accuracy', 'Test Loss', 'Test Accuracy']\n",
    "pd.DataFrame(histroy.history).plot(figsize=(8,5), cmap='winter')\n",
    "plt.xlabel('Number of Epochs')\n",
    "\n",
    "plt.title('Accuracy and Loss')\n",
    "plt.legend(labels=mylabels)\n",
    "plt.show()"
   ]
  },
  {
   "cell_type": "code",
   "execution_count": null,
   "id": "c61add92",
   "metadata": {},
   "outputs": [],
   "source": []
  }
 ],
 "metadata": {
  "kernelspec": {
   "display_name": "Python 3",
   "language": "python",
   "name": "python3"
  },
  "language_info": {
   "codemirror_mode": {
    "name": "ipython",
    "version": 3
   },
   "file_extension": ".py",
   "mimetype": "text/x-python",
   "name": "python",
   "nbconvert_exporter": "python",
   "pygments_lexer": "ipython3",
   "version": "3.9.7"
  }
 },
 "nbformat": 4,
 "nbformat_minor": 5
}
