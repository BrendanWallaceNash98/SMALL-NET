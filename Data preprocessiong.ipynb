{
 "cells": [
  {
   "cell_type": "code",
   "execution_count": null,
   "id": "bdd08ee6",
   "metadata": {},
   "outputs": [],
   "source": [
    "import numpy as np\n",
    "import cv2\n",
    "import pandas as pd\n",
    "import matplotlib.pyplot as plt\n",
    "import os\n",
    "import random"
   ]
  },
  {
   "cell_type": "code",
   "execution_count": null,
   "id": "c63bfb8b",
   "metadata": {},
   "outputs": [],
   "source": [
    "#load test data, same as COVID-NET\n",
    "testDf = pd.read_csv('test_COVIDx8B.txt', sep=\"\\s\", header = None, engine='python')\n"
   ]
  },
  {
   "cell_type": "code",
   "execution_count": null,
   "id": "1c1c17b3",
   "metadata": {},
   "outputs": [],
   "source": [
    "from sklearn.utils import shuffle\n",
    "testDf = shuffle(testDf)"
   ]
  },
  {
   "cell_type": "code",
   "execution_count": null,
   "id": "acae0b99",
   "metadata": {},
   "outputs": [],
   "source": [
    "y_test = testDf[2]"
   ]
  },
  {
   "cell_type": "code",
   "execution_count": null,
   "id": "136a1dbc",
   "metadata": {
    "scrolled": true
   },
   "outputs": [],
   "source": [
    "y_test = y_test.tolist()\n",
    "y_test"
   ]
  },
  {
   "cell_type": "code",
   "execution_count": null,
   "id": "f80a2fc0",
   "metadata": {},
   "outputs": [],
   "source": [
    "#change test label to binary \n",
    "for i in range(0, len(y_test)):\n",
    "    if y_test[i] == 'positive':\n",
    "        y_test[i] = 1\n",
    "    if y_test[i] ==  'negative':\n",
    "        y_test[i] = 0"
   ]
  },
  {
   "cell_type": "code",
   "execution_count": null,
   "id": "b9f385c8",
   "metadata": {},
   "outputs": [],
   "source": [
    "X_test = testDf[1]"
   ]
  },
  {
   "cell_type": "code",
   "execution_count": null,
   "id": "0396273f",
   "metadata": {},
   "outputs": [],
   "source": [
    "X_test = X_test.tolist()\n",
    "X_test"
   ]
  },
  {
   "cell_type": "code",
   "execution_count": null,
   "id": "7f06e4f0",
   "metadata": {},
   "outputs": [],
   "source": [
    "#load and sort images\n",
    "training_data = []\n",
    "dataDir = \"data/\"\n",
    "categories = [\"test\"]\n",
    "img_size = 250\n",
    "def XTest_train(X_test):\n",
    "    for category in categories:\n",
    "            path = os.path.join(dataDir, category)\n",
    "    for line in X_test:\n",
    "        img_array = cv2.imread(os.path.join(path,line), cv2.IMREAD_GRAYSCALE)\n",
    "        new_array = cv2.resize(img_array,(img_size, img_size))\n",
    "        training_data.append([new_array])"
   ]
  },
  {
   "cell_type": "code",
   "execution_count": null,
   "id": "faf7c8cf",
   "metadata": {},
   "outputs": [],
   "source": [
    "XTest_train(X_test)"
   ]
  },
  {
   "cell_type": "code",
   "execution_count": null,
   "id": "dfc97396",
   "metadata": {},
   "outputs": [],
   "source": [
    "X_test = training_data"
   ]
  },
  {
   "cell_type": "code",
   "execution_count": null,
   "id": "82f85608",
   "metadata": {},
   "outputs": [],
   "source": [
    "plt.imshow(X_test[199][0], cmap='gray')"
   ]
  },
  {
   "cell_type": "code",
   "execution_count": null,
   "id": "a67a6ff5",
   "metadata": {},
   "outputs": [],
   "source": [
    "X_test = np.array(X_test).reshape(-1, img_size, img_size, 1)"
   ]
  },
  {
   "cell_type": "code",
   "execution_count": null,
   "id": "d511b951",
   "metadata": {},
   "outputs": [],
   "source": [
    "X_test.shape"
   ]
  },
  {
   "cell_type": "code",
   "execution_count": null,
   "id": "935a8d76",
   "metadata": {},
   "outputs": [],
   "source": [
    "#data from the Society of Medical and Interventional Radiology was removed (900 pictures, only in training data) due to formating \n",
    "#problem\n",
    "trainDf = pd.read_csv('train_COVIDx8B.txt', sep=\"\\s\", header = None, engine='python')"
   ]
  },
  {
   "cell_type": "code",
   "execution_count": null,
   "id": "8f250a7b",
   "metadata": {},
   "outputs": [],
   "source": [
    "#convert dataframe to array\n",
    "trainArr = np.array(trainDf)"
   ]
  },
  {
   "cell_type": "code",
   "execution_count": null,
   "id": "835a4c77",
   "metadata": {},
   "outputs": [],
   "source": [
    "print(trainArr)"
   ]
  },
  {
   "cell_type": "code",
   "execution_count": null,
   "id": "e02109cb",
   "metadata": {},
   "outputs": [],
   "source": [
    "#shuffle array\n",
    "np.random.shuffle(trainArr)"
   ]
  },
  {
   "cell_type": "code",
   "execution_count": null,
   "id": "f96cfcff",
   "metadata": {},
   "outputs": [],
   "source": [
    "trainArr"
   ]
  },
  {
   "cell_type": "code",
   "execution_count": null,
   "id": "77663aef",
   "metadata": {},
   "outputs": [],
   "source": [
    "trainDf = pd.DataFrame(trainArr)"
   ]
  },
  {
   "cell_type": "code",
   "execution_count": null,
   "id": "5d5f9cd4",
   "metadata": {},
   "outputs": [],
   "source": [
    "trainDf"
   ]
  },
  {
   "cell_type": "code",
   "execution_count": null,
   "id": "b02ce614",
   "metadata": {},
   "outputs": [],
   "source": [
    "#drop uneeded columns\n",
    "trainDf = trainDf.drop(0, 1)\n",
    "trainDf = trainDf.drop(3, 1)\n",
    "trainDf"
   ]
  },
  {
   "cell_type": "code",
   "execution_count": null,
   "id": "d5f70021",
   "metadata": {},
   "outputs": [],
   "source": [
    "trainDfPos = trainDf[trainDf[2] == \"positive\"]"
   ]
  },
  {
   "cell_type": "code",
   "execution_count": null,
   "id": "2fe4aaea",
   "metadata": {},
   "outputs": [],
   "source": [
    "#reduce data size of train\n",
    "trainDfPos = trainDfPos[:1215]\n",
    "trainDfPos"
   ]
  },
  {
   "cell_type": "code",
   "execution_count": null,
   "id": "89efb1e3",
   "metadata": {},
   "outputs": [],
   "source": [
    "trainDfNeg = trainDf[trainDf[2] == \"negative\"]"
   ]
  },
  {
   "cell_type": "code",
   "execution_count": null,
   "id": "c20bdf8d",
   "metadata": {},
   "outputs": [],
   "source": [
    "#reduce data size of train\n",
    "trainDfNeg = trainDfNeg[:1215]\n",
    "len(trainDfNeg)"
   ]
  },
  {
   "cell_type": "code",
   "execution_count": null,
   "id": "9435877a",
   "metadata": {},
   "outputs": [],
   "source": [
    "#concatenate negative and positive data\n",
    "Dfconcat = pd.concat([trainDfNeg, trainDfPos], axis=0)"
   ]
  },
  {
   "cell_type": "code",
   "execution_count": null,
   "id": "78e40ef4",
   "metadata": {},
   "outputs": [],
   "source": [
    "Dfconcat"
   ]
  },
  {
   "cell_type": "code",
   "execution_count": null,
   "id": "f037c9eb",
   "metadata": {},
   "outputs": [],
   "source": [
    "dfneg = Dfconcat[Dfconcat[2] == \"negative\"]"
   ]
  },
  {
   "cell_type": "code",
   "execution_count": null,
   "id": "ed7bd3f7",
   "metadata": {},
   "outputs": [],
   "source": [
    "dfneg"
   ]
  },
  {
   "cell_type": "code",
   "execution_count": null,
   "id": "1d8c1e86",
   "metadata": {},
   "outputs": [],
   "source": [
    "dfpos = Dfconcat[Dfconcat[2] == \"positive\"]\n",
    "dfpos"
   ]
  },
  {
   "cell_type": "code",
   "execution_count": null,
   "id": "1b681841",
   "metadata": {},
   "outputs": [],
   "source": [
    "trainDf = shuffle(Dfconcat)"
   ]
  },
  {
   "cell_type": "code",
   "execution_count": null,
   "id": "9ee260ac",
   "metadata": {},
   "outputs": [],
   "source": [
    "trainDf"
   ]
  },
  {
   "cell_type": "code",
   "execution_count": null,
   "id": "34773c83",
   "metadata": {},
   "outputs": [],
   "source": [
    "y_train = trainDf[2]\n",
    "y_train = y_train.tolist()\n",
    "y_train"
   ]
  },
  {
   "cell_type": "code",
   "execution_count": null,
   "id": "1cfacce2",
   "metadata": {},
   "outputs": [],
   "source": [
    "for i in range(0, len(y_train)):\n",
    "    if y_train[i] == 'positive':\n",
    "        y_train[i] = 1\n",
    "    if y_train[i] ==  'negative':\n",
    "        y_train[i] = 0"
   ]
  },
  {
   "cell_type": "code",
   "execution_count": null,
   "id": "478b2ba0",
   "metadata": {},
   "outputs": [],
   "source": [
    "y_train"
   ]
  },
  {
   "cell_type": "code",
   "execution_count": null,
   "id": "9aaca4fa",
   "metadata": {},
   "outputs": [],
   "source": [
    "X_train = trainDf[1]"
   ]
  },
  {
   "cell_type": "code",
   "execution_count": null,
   "id": "d856a725",
   "metadata": {},
   "outputs": [],
   "source": [
    "len(X_train)"
   ]
  },
  {
   "cell_type": "code",
   "execution_count": null,
   "id": "ee34e127",
   "metadata": {},
   "outputs": [],
   "source": [
    "dataDir = \"data/\"\n",
    "categories = [\"train\"]\n",
    "img_size = 250\n",
    "for category in categories:\n",
    "    path = os.path.join(dataDir, category)\n",
    "    for line in X_train:\n",
    "        img_array = cv2.imread(os.path.join(path,line), cv2.IMREAD_GRAYSCALE)\n",
    "        new_array = cv2.resize(img_array,(img_size, img_size))"
   ]
  },
  {
   "cell_type": "code",
   "execution_count": null,
   "id": "6c1059a9",
   "metadata": {},
   "outputs": [],
   "source": [
    "plt.imshow(new_array, cmap='gray')"
   ]
  },
  {
   "cell_type": "code",
   "execution_count": null,
   "id": "6959f380",
   "metadata": {},
   "outputs": [],
   "source": [
    "\n",
    "training_data = []\n",
    "\n",
    "def img_train(X_train):\n",
    "    for category in categories:\n",
    "        path = os.path.join(dataDir, category)\n",
    "    for line in X_train:\n",
    "        img_array = cv2.imread(os.path.join(path,line), cv2.IMREAD_GRAYSCALE)\n",
    "        new_array = cv2.resize(img_array,(img_size, img_size))\n",
    "        training_data.append([new_array])"
   ]
  },
  {
   "cell_type": "code",
   "execution_count": null,
   "id": "0748053d",
   "metadata": {},
   "outputs": [],
   "source": [
    "img_train(X_train)"
   ]
  },
  {
   "cell_type": "code",
   "execution_count": null,
   "id": "0a34bb73",
   "metadata": {},
   "outputs": [],
   "source": [
    "X_train = training_data"
   ]
  },
  {
   "cell_type": "code",
   "execution_count": null,
   "id": "fa3295c1",
   "metadata": {},
   "outputs": [],
   "source": [
    "len(X_train)"
   ]
  },
  {
   "cell_type": "code",
   "execution_count": null,
   "id": "76bdb909",
   "metadata": {},
   "outputs": [],
   "source": [
    "X_train =  np.array(X_train).reshape(-1, 250, 250, 1)"
   ]
  },
  {
   "cell_type": "code",
   "execution_count": null,
   "id": "b208c202",
   "metadata": {},
   "outputs": [],
   "source": [
    "len(X_train)"
   ]
  },
  {
   "cell_type": "code",
   "execution_count": null,
   "id": "2eb13863",
   "metadata": {},
   "outputs": [],
   "source": [
    "plt.imshow(X_train[999][0], cmap='gray')"
   ]
  },
  {
   "cell_type": "code",
   "execution_count": null,
   "id": "ac6e46fe",
   "metadata": {},
   "outputs": [],
   "source": [
    "import pickle"
   ]
  },
  {
   "cell_type": "code",
   "execution_count": null,
   "id": "3b968120",
   "metadata": {},
   "outputs": [],
   "source": [
    "#save data sets as pickles\n",
    "pickle_out = open(\"X_test.pickle\", \"wb\")\n",
    "pickle.dump(X_test, pickle_out)\n",
    "pickle_out.close()\n",
    "\n",
    "pickle_out = open(\"y_test.pickle\", \"wb\")\n",
    "pickle.dump(y_test, pickle_out)\n",
    "pickle_out.close()\n",
    "\n",
    "pickle_out = open(\"X_train.pickle\", \"wb\")\n",
    "pickle.dump(X_train, pickle_out)\n",
    "pickle_out.close()\n",
    "\n",
    "pickle_out = open(\"y_train.pickle\", \"wb\")\n",
    "pickle.dump(y_train, pickle_out)\n",
    "pickle_out.close()"
   ]
  },
  {
   "cell_type": "code",
   "execution_count": null,
   "id": "fbeb3133",
   "metadata": {},
   "outputs": [],
   "source": []
  }
 ],
 "metadata": {
  "kernelspec": {
   "display_name": "Python 3",
   "language": "python",
   "name": "python3"
  },
  "language_info": {
   "codemirror_mode": {
    "name": "ipython",
    "version": 3
   },
   "file_extension": ".py",
   "mimetype": "text/x-python",
   "name": "python",
   "nbconvert_exporter": "python",
   "pygments_lexer": "ipython3",
   "version": "3.9.7"
  }
 },
 "nbformat": 4,
 "nbformat_minor": 5
}
